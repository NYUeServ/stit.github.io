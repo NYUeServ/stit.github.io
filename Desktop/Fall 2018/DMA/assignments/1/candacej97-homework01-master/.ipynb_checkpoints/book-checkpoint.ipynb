{
 "cells": [
  {
   "cell_type": "markdown",
   "metadata": {},
   "source": [
    "# Who was the most frequently mentioned character in Frankenstein?"
   ]
  },
  {
   "cell_type": "code",
   "execution_count": null,
   "metadata": {},
   "outputs": [],
   "source": [
    "\n",
    "# open the book's file\n",
    "franken_book = open('frankenstein.txt', r)\n",
    "\n",
    "# import a dictionary or a dictionary file\n",
    "dictionary = open('dictionary', r)\n",
    "\n",
    "# analyze the text in your file AND come up with an answer for the above question\n",
    "# document your steps in markdown cells\n",
    "# your answer does not have to be correct (or even exact!)… as long as you have some description of your analysis\n",
    "\n",
    "\n",
    "franken_book.close()\n",
    "dictionary.close()"
   ]
  }
 ],
 "metadata": {
  "kernelspec": {
   "display_name": "Python 3",
   "language": "python",
   "name": "python3"
  },
  "language_info": {
   "codemirror_mode": {
    "name": "ipython",
    "version": 3
   },
   "file_extension": ".py",
   "mimetype": "text/x-python",
   "name": "python",
   "nbconvert_exporter": "python",
   "pygments_lexer": "ipython3",
   "version": "3.6.5"
  }
 },
 "nbformat": 4,
 "nbformat_minor": 2
}
